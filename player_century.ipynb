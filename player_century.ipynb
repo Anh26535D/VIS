{
 "cells": [
  {
   "cell_type": "code",
   "execution_count": 26,
   "metadata": {},
   "outputs": [],
   "source": [
    "import sys\n",
    "sys.path.insert(0, '/VIS_3TH/')\n",
    "\n",
    "import numpy as np\n",
    "from numba import njit\n",
    "\n",
    "from setup import SHORT_PATH\n",
    "import importlib.util\n",
    "game_name = 'Century'\n",
    "\n",
    "def add_game_to_syspath(game_name):\n",
    "    if len(sys.argv) >= 2:\n",
    "        sys.argv = [sys.argv[0]]\n",
    "    sys.argv.append(game_name)\n",
    "\n",
    "def setup_game(game_name):\n",
    "    spec = importlib.util.spec_from_file_location('env', f\"{SHORT_PATH}Base/{game_name}/env.py\")\n",
    "    module = importlib.util.module_from_spec(spec)\n",
    "    sys.modules[spec.name] = module \n",
    "    spec.loader.exec_module(module)\n",
    "    return module\n",
    "\n",
    "add_game_to_syspath(game_name)\n",
    "env = setup_game(game_name)\n",
    "\n",
    "getActionSize = env.getActionSize\n",
    "getStateSize = env.getStateSize\n",
    "getAgentSize = env.getAgentSize\n",
    "\n",
    "getValidActions = env.getValidActions\n",
    "getReward = env.getReward\n",
    "numba_main_2 = env.numba_main_2"
   ]
  },
  {
   "cell_type": "code",
   "execution_count": 27,
   "metadata": {},
   "outputs": [],
   "source": [
    "@njit()\n",
    "def valueOf(card, resource):\n",
    "    score = card[4]\n",
    "    cost = card[0:4]\n",
    "    # needs = cost - resource\n",
    "    # needs[needs<=0] = 0\n",
    "    return score/(np.sum(cost))\n",
    "\n",
    "@njit()\n",
    "def player(state, per):\n",
    "    validActions = getValidActions(state)\n",
    "    validActions = np.where(validActions == 1)[0]\n",
    "\n",
    "    resources = state[2:6]\n",
    "    cards = state[194:219].reshape(5,-1)\n",
    "    purchasePointCardActions = validActions[(validActions>=7) & (validActions<12)]\n",
    "    if len(purchasePointCardActions) > 0:\n",
    "        valueOfCards = np.zeros_like(purchasePointCardActions) - 1\n",
    "        for i in range(len(purchasePointCardActions)):\n",
    "            valueOfCards[i] = valueOf(cards[int(purchasePointCardActions[i]-7)], resources)\n",
    "        action = purchasePointCardActions[0]\n",
    "        for i in range(len(purchasePointCardActions)):\n",
    "            if valueOfCards[i] > valueOf(cards[int(purchasePointCardActions[i]-7)], resources):\n",
    "                action = purchasePointCardActions[i]\n",
    "        return action, per \n",
    "    \n",
    "    purchaseActionCardActions = validActions[(validActions>=1) & (validActions<7)]\n",
    "    if len(purchaseActionCardActions) > 0:\n",
    "        return purchaseActionCardActions[0], per\n",
    "    \n",
    "    performActionCardsActions = validActions[(validActions>=12) & (validActions<57)]\n",
    "    if len(performActionCardsActions) > 0:\n",
    "        return performActionCardsActions[0], per\n",
    "    \n",
    "    returnTokenActions = validActions[(validActions>=57) & (validActions<61)]\n",
    "    if len(returnTokenActions) > 0:\n",
    "        return returnTokenActions[0], per\n",
    "    \n",
    "    upgradeTokenActions = validActions[(validActions>=62) & (validActions<65)]\n",
    "    if len(upgradeTokenActions) > 0:\n",
    "        return upgradeTokenActions[0], per\n",
    "    \n",
    "    if 61 in validActions:\n",
    "        return 61, per \n",
    "    \n",
    "    if 0 in validActions:\n",
    "        return 0, per\n",
    "    \n",
    "    action = validActions[np.random.randint(len(validActions))]\n",
    "    return action, per\n"
   ]
  },
  {
   "cell_type": "code",
   "execution_count": 29,
   "metadata": {},
   "outputs": [
    {
     "data": {
      "text/plain": [
       "2588"
      ]
     },
     "execution_count": 29,
     "metadata": {},
     "output_type": "execute_result"
    }
   ],
   "source": [
    "win, per = numba_main_2(player, 10000, np.array([]), 1)\n",
    "win"
   ]
  }
 ],
 "metadata": {
  "kernelspec": {
   "display_name": "Python 3",
   "language": "python",
   "name": "python3"
  },
  "language_info": {
   "codemirror_mode": {
    "name": "ipython",
    "version": 3
   },
   "file_extension": ".py",
   "mimetype": "text/x-python",
   "name": "python",
   "nbconvert_exporter": "python",
   "pygments_lexer": "ipython3",
   "version": "3.9.13"
  },
  "orig_nbformat": 4
 },
 "nbformat": 4,
 "nbformat_minor": 2
}
