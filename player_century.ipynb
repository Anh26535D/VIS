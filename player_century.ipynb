{
 "cells": [
  {
   "cell_type": "code",
   "execution_count": 1,
   "metadata": {},
   "outputs": [],
   "source": [
    "import sys\n",
    "sys.path.insert(0, '/VIS_3TH/')\n",
    "\n",
    "import numpy as np\n",
    "from numba import njit\n",
    "\n",
    "from setup import SHORT_PATH\n",
    "import importlib.util\n",
    "game_name = 'Century'\n",
    "\n",
    "def add_game_to_syspath(game_name):\n",
    "    if len(sys.argv) >= 2:\n",
    "        sys.argv = [sys.argv[0]]\n",
    "    sys.argv.append(game_name)\n",
    "\n",
    "def setup_game(game_name):\n",
    "    spec = importlib.util.spec_from_file_location('env', f\"{SHORT_PATH}Base/{game_name}/env.py\")\n",
    "    module = importlib.util.module_from_spec(spec)\n",
    "    sys.modules[spec.name] = module \n",
    "    spec.loader.exec_module(module)\n",
    "    return module\n",
    "\n",
    "add_game_to_syspath(game_name)\n",
    "env = setup_game(game_name)\n",
    "\n",
    "getActionSize = env.getActionSize\n",
    "getStateSize = env.getStateSize\n",
    "getAgentSize = env.getAgentSize\n",
    "\n",
    "getValidActions = env.getValidActions\n",
    "getReward = env.getReward\n",
    "numba_main_2 = env.numba_main_2"
   ]
  },
  {
   "cell_type": "code",
   "execution_count": 2,
   "metadata": {},
   "outputs": [],
   "source": [
    "from Base.Century.index import ALL_CARD_IN4"
   ]
  },
  {
   "cell_type": "code",
   "execution_count": 3,
   "metadata": {},
   "outputs": [],
   "source": [
    "@njit()\n",
    "def valueOf(cards, action, resources, pointCards):\n",
    "    card = cards[int(action-12)]\n",
    "    returnTokens = card[0:4]\n",
    "    rewardTokens = card[4:8]       \n",
    "    nUpgradeTokens = card[8]\n",
    "    pTokens = rewardTokens + resources - returnTokens\n",
    "    score = 0\n",
    "    for pointCard in pointCards:\n",
    "        balance = pTokens - pointCard\n",
    "        if np.all(balance>=0):\n",
    "            score += 1000000\n",
    "        if np.sum(pTokens) <= 10:\n",
    "            balance[balance<0] = 0\n",
    "            score += (np.sum(pTokens*np.array([1, 1, 2, 3])))\n",
    "        elif nUpgradeTokens > 0:\n",
    "            score += nUpgradeTokens\n",
    "        else:\n",
    "            score += (np.sum(pTokens*np.array([1, 1, 2, 3]))-20)\n",
    "    return score\n",
    "\n",
    "@njit()\n",
    "def player(state, per):\n",
    "    validActions = getValidActions(state)\n",
    "    validActions = np.where(validActions == 1)[0]\n",
    "\n",
    "    if 1 in validActions:\n",
    "        return 1, per\n",
    "\n",
    "    cards = state[194:219].reshape(5,-1)\n",
    "    purchasePointCardActions = validActions[(validActions>=7) & (validActions<12)]\n",
    "    if len(purchasePointCardActions) > 0:\n",
    "        valueOfCards = np.zeros_like(purchasePointCardActions)\n",
    "        for i in range(len(purchasePointCardActions)):\n",
    "            valueOfCards[i] = cards[int(purchasePointCardActions[i]-7)][0]\n",
    "        action = purchasePointCardActions[np.argmax(valueOfCards)]\n",
    "        return action, per \n",
    "    \n",
    "    if (0 in validActions) and (np.sum(state[51:96]) >= 0.5*np.sum(state[6:51])):\n",
    "        return 0, per\n",
    "    \n",
    "    resources = state[2:6]\n",
    "    actionCards = ALL_CARD_IN4\n",
    "    performActionCardsActions = validActions[(validActions>=12) & (validActions<57)]\n",
    "    if len(performActionCardsActions) > 0:\n",
    "        valueOfActionCards = np.zeros_like(performActionCardsActions)\n",
    "        for i in range(len(performActionCardsActions)):\n",
    "            valueOfActionCards[i] = valueOf(actionCards, performActionCardsActions[i], resources, cards[:, 0:4])\n",
    "        action = performActionCardsActions[np.argmax(valueOfActionCards)]\n",
    "        return action, per\n",
    "    \n",
    "    returnTokenActions = validActions[(validActions>=57) & (validActions<61)]\n",
    "    if len(returnTokenActions) > 0:\n",
    "        return returnTokenActions[0], per\n",
    "    \n",
    "    upgradeTokenActions = validActions[(validActions>=62) & (validActions<65)]\n",
    "    if len(upgradeTokenActions) > 0:\n",
    "        return upgradeTokenActions[-1], per \n",
    "    \n",
    "    if 61 in validActions:\n",
    "        return 61, per \n",
    "    \n",
    "    if 0 in validActions:\n",
    "        return 0, per\n",
    "    \n",
    "    action = validActions[np.random.randint(len(validActions))]\n",
    "    return action, per\n"
   ]
  },
  {
   "cell_type": "code",
   "execution_count": 4,
   "metadata": {},
   "outputs": [
    {
     "name": "stdout",
     "output_type": "stream",
     "text": [
      "5315\n",
      "5330\n",
      "5379\n",
      "5292\n",
      "5317\n",
      "5399\n",
      "5330\n",
      "5434\n",
      "5279\n",
      "5357\n"
     ]
    }
   ],
   "source": [
    "for i in range(10):\n",
    "    win, per = numba_main_2(player, 10000, np.array([]), 1)\n",
    "    print(win)"
   ]
  }
 ],
 "metadata": {
  "kernelspec": {
   "display_name": "Python 3",
   "language": "python",
   "name": "python3"
  },
  "language_info": {
   "codemirror_mode": {
    "name": "ipython",
    "version": 3
   },
   "file_extension": ".py",
   "mimetype": "text/x-python",
   "name": "python",
   "nbconvert_exporter": "python",
   "pygments_lexer": "ipython3",
   "version": "3.9.13"
  },
  "orig_nbformat": 4
 },
 "nbformat": 4,
 "nbformat_minor": 2
}
