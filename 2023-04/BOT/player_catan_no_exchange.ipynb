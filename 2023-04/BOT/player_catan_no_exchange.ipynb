{
 "cells": [
  {
   "cell_type": "code",
   "execution_count": 35,
   "metadata": {},
   "outputs": [],
   "source": [
    "import sys\n",
    "sys.path.insert(0, '/VIS_3TH/')\n",
    "\n",
    "import numpy as np\n",
    "from numba import njit\n",
    "\n",
    "from setup import SHORT_PATH\n",
    "import importlib.util\n",
    "game_name = 'Durak'\n",
    "\n",
    "def add_game_to_syspath(game_name):\n",
    "    if len(sys.argv) >= 2:\n",
    "        sys.argv = [sys.argv[0]]\n",
    "    sys.argv.append(game_name)\n",
    "\n",
    "def setup_game(game_name):\n",
    "    spec = importlib.util.spec_from_file_location('env', f\"{SHORT_PATH}Base/{game_name}/env.py\")\n",
    "    module = importlib.util.module_from_spec(spec)\n",
    "    sys.modules[spec.name] = module \n",
    "    spec.loader.exec_module(module)\n",
    "    return module\n",
    "\n",
    "add_game_to_syspath(game_name)\n",
    "env = setup_game(game_name)\n",
    "\n",
    "getActionSize = env.getActionSize\n",
    "getStateSize = env.getStateSize\n",
    "getAgentSize = env.getAgentSize\n",
    "\n",
    "getValidActions = env.getValidActions\n",
    "getReward = env.getReward\n",
    "numba_main_2 = env.numba_main_2"
   ]
  },
  {
   "cell_type": "code",
   "execution_count": 36,
   "metadata": {},
   "outputs": [],
   "source": [
    "@njit()\n",
    "def player(state, per):\n",
    "    validActions = getValidActions(state)\n",
    "    validActions = np.where(validActions == 1)[0]\n",
    "\n",
    "    spades = validActions[(validActions>=0) & (validActions<12)]\n",
    "    clubs = validActions[(validActions>=13) & (validActions<25)]\n",
    "    diamonds = validActions[(validActions>=26) & (validActions<38)]\n",
    "    hearts = validActions[(validActions>=39) & (validActions<51)]\n",
    "\n",
    "    master = np.where(state[158:162] == 1)[0][0]\n",
    "\n",
    "    if (state[157] == 1) and (np.sum(state[104:156]) != 0) :\n",
    "        card = np.where(state[104:156] == 1)[0][0]\n",
    "        if ((card // 13 == master) or (card % 13 >= 7)) and (state[162]>5):\n",
    "            return 52, per\n",
    "\n",
    "    if master == 0:\n",
    "        if (len(clubs) > 0):\n",
    "            return clubs[0], per\n",
    "        if (len(diamonds) > 0):\n",
    "            return  diamonds[0], per\n",
    "        if (len(hearts) > 0):\n",
    "            return hearts[0], per\n",
    "        if len(spades)>0:\n",
    "            return spades[0], per\n",
    "    elif master == 1:\n",
    "        if (len(diamonds) > 0):\n",
    "            return  diamonds[0], per\n",
    "        if (len(hearts) > 0):\n",
    "            return hearts[0], per\n",
    "        if len(spades)>0:\n",
    "            return spades[0], per\n",
    "        if (len(clubs) > 0):\n",
    "            return clubs[0], per\n",
    "    elif master == 2:\n",
    "        if (len(hearts) > 0):\n",
    "            return hearts[0], per\n",
    "        if len(spades)>0:\n",
    "            return spades[0], per\n",
    "        if (len(clubs) > 0):\n",
    "            return clubs[0], per\n",
    "        if (len(diamonds) > 0):\n",
    "            return  diamonds[0], per\n",
    "    elif master == 3:\n",
    "        if len(spades)>0:\n",
    "            return spades[0], per\n",
    "        if (len(clubs) > 0):\n",
    "            return clubs[0], per\n",
    "        if (len(diamonds) > 0):\n",
    "            return  diamonds[0], per\n",
    "        if (len(hearts) > 0):\n",
    "            return hearts[0], per\n",
    "    \n",
    "    action = validActions[np.random.randint(len(validActions))]\n",
    "    return action, per"
   ]
  },
  {
   "cell_type": "code",
   "execution_count": 37,
   "metadata": {},
   "outputs": [
    {
     "data": {
      "text/plain": [
       "334"
      ]
     },
     "execution_count": 37,
     "metadata": {},
     "output_type": "execute_result"
    }
   ],
   "source": [
    "win, per = numba_main_2(player, 1000, np.array([]), 1)\n",
    "win"
   ]
  }
 ],
 "metadata": {
  "kernelspec": {
   "display_name": "Python 3",
   "language": "python",
   "name": "python3"
  },
  "language_info": {
   "codemirror_mode": {
    "name": "ipython",
    "version": 3
   },
   "file_extension": ".py",
   "mimetype": "text/x-python",
   "name": "python",
   "nbconvert_exporter": "python",
   "pygments_lexer": "ipython3",
   "version": "3.9.13"
  },
  "orig_nbformat": 4
 },
 "nbformat": 4,
 "nbformat_minor": 2
}
