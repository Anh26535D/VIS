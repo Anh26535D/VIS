{
 "cells": [
  {
   "cell_type": "code",
   "execution_count": 1,
   "metadata": {},
   "outputs": [],
   "source": [
    "import sys\n",
    "sys.path.insert(0, '/VIS_3TH/')\n",
    "\n",
    "import numpy as np\n",
    "from numba import njit\n",
    "\n",
    "from setup import SHORT_PATH\n",
    "import importlib.util\n",
    "game_name = 'Exploding_Kitten'\n",
    "\n",
    "def add_game_to_syspath(game_name):\n",
    "    if len(sys.argv) >= 2:\n",
    "        sys.argv = [sys.argv[0]]\n",
    "    sys.argv.append(game_name)\n",
    "\n",
    "def setup_game(game_name):\n",
    "    spec = importlib.util.spec_from_file_location('env', f\"{SHORT_PATH}Base/{game_name}/env.py\")\n",
    "    module = importlib.util.module_from_spec(spec)\n",
    "    sys.modules[spec.name] = module \n",
    "    spec.loader.exec_module(module)\n",
    "    return module\n",
    "\n",
    "add_game_to_syspath(game_name)\n",
    "env = setup_game(game_name)\n",
    "\n",
    "getActionSize = env.getActionSize\n",
    "getStateSize = env.getStateSize\n",
    "getAgentSize = env.getAgentSize\n",
    "\n",
    "getValidActions = env.getValidActions\n",
    "getReward = env.getReward\n",
    "numba_main_2 = env.numba_main_2"
   ]
  },
  {
   "cell_type": "code",
   "execution_count": 2,
   "metadata": {},
   "outputs": [],
   "source": [
    "# (34, 10, 50, 7, 3, 0, 5, 9, 40, 18, 28, 1, 25, 21, 36, 11, 47, 38, 26, 15, 29, 35, 13, 23, 20, 32, 19, 30, 2, 44, 42, 31, 12, 17, 22, 46, 14, 39, 49, 8, 27, 16, 43, 6, 33, 24, 37, 45, 41, 4, 48):"
   ]
  },
  {
   "cell_type": "code",
   "execution_count": 6,
   "metadata": {},
   "outputs": [],
   "source": [
    "@njit()\n",
    "def player(state, per):\n",
    "    validActions = getValidActions(state) \n",
    "    validActions = np.where(validActions == 1)[0]\n",
    "    if np.argmax(state[87:91])+11 in validActions:\n",
    "        return np.argmax(state[87:91])+11, per\n",
    "    for i in (10, 9, 8, 7, 6, 1, 2, 4, 5, 3, 0, 11):\n",
    "        if i+15 in validActions:\n",
    "            return i+15, per\n",
    "    for i in (11, 0, 3, 5, 4, 2, 1, 6, 7, 8, 9, 10):\n",
    "        if i+27 in validActions:\n",
    "            return i+27, per\n",
    "    for i in (11, 0, 3, 5, 4, 2, 1, 6, 7, 8, 9, 10):\n",
    "        if i+39 in validActions:\n",
    "            return i+39, per\n",
    "    for i in (9, 7, 8):\n",
    "        if i in validActions:\n",
    "            return i, per\n",
    "    if 10 in validActions:\n",
    "        return 10, per\n",
    "    for i in (3, 0, 6, 5, 4, 2, 1):\n",
    "        if i in validActions:\n",
    "            return i, per\n",
    "    action = np.random.choice(validActions)\n",
    "    return action, per"
   ]
  },
  {
   "cell_type": "code",
   "execution_count": 11,
   "metadata": {},
   "outputs": [
    {
     "data": {
      "text/plain": [
       "2510"
      ]
     },
     "execution_count": 11,
     "metadata": {},
     "output_type": "execute_result"
    }
   ],
   "source": [
    "win, per = numba_main_2(player, 10000, np.array([]), 1)\n",
    "win"
   ]
  },
  {
   "cell_type": "code",
   "execution_count": 5,
   "metadata": {},
   "outputs": [],
   "source": [
    "# from itertools import permutations\n",
    "# pers = permutations([1, 2, 3, 4, 5, 6])\n",
    "# win_max = 0\n",
    "# per_max = [1, 2, 3, 4, 5, 6]\n",
    "# for per in pers:\n",
    "#     per = np.array(list(per))\n",
    "#     win, per = numba_main_2(player, 1000, per, 1)\n",
    "#     if win > win_max + 10:\n",
    "#         print(win)\n",
    "#         win_max = win\n",
    "#         per_max = per"
   ]
  }
 ],
 "metadata": {
  "kernelspec": {
   "display_name": "Python 3",
   "language": "python",
   "name": "python3"
  },
  "language_info": {
   "codemirror_mode": {
    "name": "ipython",
    "version": 3
   },
   "file_extension": ".py",
   "mimetype": "text/x-python",
   "name": "python",
   "nbconvert_exporter": "python",
   "pygments_lexer": "ipython3",
   "version": "3.9.13"
  },
  "orig_nbformat": 4
 },
 "nbformat": 4,
 "nbformat_minor": 2
}
