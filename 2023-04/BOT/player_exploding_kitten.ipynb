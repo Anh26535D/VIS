{
 "cells": [
  {
   "cell_type": "code",
   "execution_count": 4,
   "metadata": {},
   "outputs": [],
   "source": [
    "import sys\n",
    "sys.path.insert(0, '/VIS_3TH/')\n",
    "\n",
    "import numpy as np\n",
    "from numba import njit\n",
    "\n",
    "from setup import SHORT_PATH\n",
    "import importlib.util\n",
    "game_name = 'Exploding_Kitten'\n",
    "\n",
    "def add_game_to_syspath(game_name):\n",
    "    if len(sys.argv) >= 2:\n",
    "        sys.argv = [sys.argv[0]]\n",
    "    sys.argv.append(game_name)\n",
    "\n",
    "def setup_game(game_name):\n",
    "    spec = importlib.util.spec_from_file_location('env', f\"{SHORT_PATH}Base/{game_name}/env.py\")\n",
    "    module = importlib.util.module_from_spec(spec)\n",
    "    sys.modules[spec.name] = module \n",
    "    spec.loader.exec_module(module)\n",
    "    return module\n",
    "\n",
    "add_game_to_syspath(game_name)\n",
    "env = setup_game(game_name)\n",
    "\n",
    "getActionSize = env.getActionSize\n",
    "getStateSize = env.getStateSize\n",
    "getAgentSize = env.getAgentSize\n",
    "\n",
    "getValidActions = env.getValidActions\n",
    "getReward = env.getReward\n",
    "numba_main_2 = env.numba_main_2"
   ]
  },
  {
   "cell_type": "code",
   "execution_count": 5,
   "metadata": {},
   "outputs": [],
   "source": [
    "@njit()\n",
    "def player(state, per):\n",
    "    validActions = getValidActions(state)\n",
    "    validActions = np.where(validActions == 1)[0]\n",
    "\n",
    "    for i in (8, 7):\n",
    "        if i in validActions and state[25]<10 and np.min(state[87:91])<5:\n",
    "            return i, per\n",
    "\n",
    "    if state[11]>0:\n",
    "        if 6 in validActions:\n",
    "            return 6, per\n",
    "        \n",
    "    if np.argmax(state[87:91])+11 in validActions:\n",
    "        return np.argmax(state[87:91])+11, per\n",
    "    \n",
    "    for i in (5, 10, 9, 8, 7, 6, 1, 2, 4, 3, 0, 11):\n",
    "        if i+15 in validActions:\n",
    "            return i+15, per\n",
    "    if np.sum(state[6:11])>0:\n",
    "        for i in (6, 7, 8, 9, 10):\n",
    "            if i+15 in validActions:\n",
    "                return i+15, per\n",
    "    for i in (11, 0, 3, 4, 2, 1):\n",
    "        if i+27 in validActions:\n",
    "            return i+27, per\n",
    "    if np.sum(state[6:11])>0:\n",
    "        for i in (6, 7, 8, 9, 10):\n",
    "            if i+27 in validActions:\n",
    "                return i+27, per\n",
    "    for i in (11, 1, 2, 4, 3):\n",
    "        if i+39 in validActions:\n",
    "            return i+39, per\n",
    "\n",
    "    for i in (3, 9):\n",
    "        if i in validActions:\n",
    "            return i, per\n",
    "     \n",
    "    if state[26]==2:\n",
    "        for i in (1, 2, 0, 4):\n",
    "            if i in validActions:\n",
    "                return i, per\n",
    "            \n",
    "    action = validActions[-1]\n",
    "    return action, per"
   ]
  },
  {
   "cell_type": "code",
   "execution_count": 6,
   "metadata": {},
   "outputs": [
    {
     "name": "stdout",
     "output_type": "stream",
     "text": [
      "0 : 3517\n",
      "1 : 3618\n",
      "2 : 3525\n",
      "3 : 3527\n",
      "4 : 3664\n",
      "5 : 3654\n",
      "6 : 3572\n",
      "7 : 3546\n",
      "8 : 3597\n",
      "9 : 3604\n"
     ]
    }
   ],
   "source": [
    "for i in range(10):\n",
    "    win, per = numba_main_2(player, 10000, np.array([]), 1)\n",
    "    print(i, \":\", win)"
   ]
  }
 ],
 "metadata": {
  "kernelspec": {
   "display_name": "Python 3",
   "language": "python",
   "name": "python3"
  },
  "language_info": {
   "codemirror_mode": {
    "name": "ipython",
    "version": 3
   },
   "file_extension": ".py",
   "mimetype": "text/x-python",
   "name": "python",
   "nbconvert_exporter": "python",
   "pygments_lexer": "ipython3",
   "version": "3.9.13"
  },
  "orig_nbformat": 4
 },
 "nbformat": 4,
 "nbformat_minor": 2
}
