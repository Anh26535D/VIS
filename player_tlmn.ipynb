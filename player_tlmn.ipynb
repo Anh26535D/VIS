{
 "cells": [
  {
   "cell_type": "code",
   "execution_count": 109,
   "metadata": {},
   "outputs": [],
   "source": [
    "import sys\n",
    "sys.path.insert(0, '/VIS_3TH/')\n",
    "\n",
    "import numpy as np\n",
    "from numba import njit\n",
    "\n",
    "from setup import SHORT_PATH\n",
    "import importlib.util\n",
    "game_name = 'TLMN'\n",
    "\n",
    "def add_game_to_syspath(game_name):\n",
    "    if len(sys.argv) >= 2:\n",
    "        sys.argv = [sys.argv[0]]\n",
    "    sys.argv.append(game_name)\n",
    "\n",
    "def setup_game(game_name):\n",
    "    spec = importlib.util.spec_from_file_location('env', f\"{SHORT_PATH}Base/{game_name}/env.py\")\n",
    "    module = importlib.util.module_from_spec(spec)\n",
    "    sys.modules[spec.name] = module \n",
    "    spec.loader.exec_module(module)\n",
    "    return module\n",
    "\n",
    "add_game_to_syspath(game_name)\n",
    "env = setup_game(game_name)\n",
    "\n",
    "getActionSize = env.getActionSize\n",
    "getStateSize = env.getStateSize\n",
    "getAgentSize = env.getAgentSize\n",
    "\n",
    "getValidActions = env.getValidActions\n",
    "getReward = env.getReward\n",
    "numba_main_2 = env.numba_main_2"
   ]
  },
  {
   "cell_type": "code",
   "execution_count": 110,
   "metadata": {},
   "outputs": [],
   "source": [
    "from Base.TLMN.env import __ACTIONS__\n",
    "\n",
    "@njit()\n",
    "def player(state, per):\n",
    "    validActions = getValidActions(state)\n",
    "    validActions = np.where(validActions == 1)[0]\n",
    "\n",
    "    actionTypes = np.zeros_like(validActions)\n",
    "    for i in range(len(validActions)):\n",
    "        actionTypes[i] = __ACTIONS__[validActions[i]][0]\n",
    "\n",
    "    actionType1 = validActions[np.where(actionTypes==1)[0]]\n",
    "    actionType2 = validActions[np.where(actionTypes==2)[0]]\n",
    "    actionType3 = validActions[np.where(actionTypes==3)[0]]\n",
    "    actionType4 = validActions[np.where(actionTypes==4)[0]]\n",
    "    actionTypes5_13 = validActions[np.where((actionTypes>=5) & (actionTypes<=13))[0]]\n",
    "    actionType14 = validActions[np.where(actionTypes==14)[0]]\n",
    "    actionType15 = validActions[np.where(actionTypes==15)[0]]\n",
    "\n",
    "    if len(actionTypes5_13) > 0:\n",
    "        return actionTypes5_13[0], per\n",
    "    \n",
    "    if len(actionType3) > 0:\n",
    "        return actionType3[0], per\n",
    "    \n",
    "    if len(actionType2) > 0:\n",
    "        return actionType2[0], per\n",
    "    \n",
    "    if len(actionType1) > 0:\n",
    "        return actionType1[0], per\n",
    "    \n",
    "    if len(actionType14) > 0:\n",
    "        return actionType14[0], per\n",
    "    \n",
    "    if len(actionType15) > 0:\n",
    "        return actionType15[0], per\n",
    "    \n",
    "    if len(actionType4) > 0:\n",
    "        return actionType4[0], per\n",
    "    \n",
    "    action = validActions[np.random.randint(len(validActions))]\n",
    "    return action, per"
   ]
  },
  {
   "cell_type": "code",
   "execution_count": 111,
   "metadata": {},
   "outputs": [
    {
     "data": {
      "text/plain": [
       "420"
      ]
     },
     "execution_count": 111,
     "metadata": {},
     "output_type": "execute_result"
    }
   ],
   "source": [
    "win, per = numba_main_2(player, 1000, np.array([]), 1)\n",
    "win"
   ]
  }
 ],
 "metadata": {
  "kernelspec": {
   "display_name": "Python 3",
   "language": "python",
   "name": "python3"
  },
  "language_info": {
   "codemirror_mode": {
    "name": "ipython",
    "version": 3
   },
   "file_extension": ".py",
   "mimetype": "text/x-python",
   "name": "python",
   "nbconvert_exporter": "python",
   "pygments_lexer": "ipython3",
   "version": "3.9.13"
  },
  "orig_nbformat": 4
 },
 "nbformat": 4,
 "nbformat_minor": 2
}
