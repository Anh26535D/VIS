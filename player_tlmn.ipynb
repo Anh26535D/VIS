{
 "cells": [
  {
   "cell_type": "code",
   "execution_count": 55,
   "metadata": {},
   "outputs": [],
   "source": [
    "import sys\n",
    "sys.path.insert(0, '/VIS_3TH/')\n",
    "\n",
    "import numpy as np\n",
    "from numba import njit\n",
    "\n",
    "from setup import SHORT_PATH\n",
    "import importlib.util\n",
    "game_name = 'TLMN'\n",
    "\n",
    "def add_game_to_syspath(game_name):\n",
    "    if len(sys.argv) >= 2:\n",
    "        sys.argv = [sys.argv[0]]\n",
    "    sys.argv.append(game_name)\n",
    "\n",
    "def setup_game(game_name):\n",
    "    spec = importlib.util.spec_from_file_location('env', f\"{SHORT_PATH}Base/{game_name}/env.py\")\n",
    "    module = importlib.util.module_from_spec(spec)\n",
    "    sys.modules[spec.name] = module \n",
    "    spec.loader.exec_module(module)\n",
    "    return module\n",
    "\n",
    "add_game_to_syspath(game_name)\n",
    "env = setup_game(game_name)\n",
    "\n",
    "getActionSize = env.getActionSize\n",
    "getStateSize = env.getStateSize\n",
    "getAgentSize = env.getAgentSize\n",
    "\n",
    "getValidActions = env.getValidActions\n",
    "getReward = env.getReward\n",
    "numba_main_2 = env.numba_main_2"
   ]
  },
  {
   "cell_type": "code",
   "execution_count": 56,
   "metadata": {},
   "outputs": [],
   "source": [
    "from Base.TLMN.env import __ACTIONS__\n",
    "\n",
    "@njit()\n",
    "def player(state, per):\n",
    "    validActions = getValidActions(state)\n",
    "    validActions = np.where(validActions == 1)[0]\n",
    "\n",
    "    actionTypes = np.zeros_like(validActions)\n",
    "    for i in range(len(validActions)):\n",
    "        actionTypes[i] = __ACTIONS__[validActions[i]][0]\n",
    "\n",
    "    actionType1 = validActions[np.where(actionTypes==1)[0]]\n",
    "    actionType2 = validActions[np.where(actionTypes==2)[0]]\n",
    "    actionType3 = validActions[np.where(actionTypes==3)[0]]\n",
    "    actionType4 = validActions[np.where(actionTypes==4)[0]]\n",
    "    actionType5 = validActions[np.where(actionTypes==5)[0]]\n",
    "    actionType6 = validActions[np.where(actionTypes==6)[0]]\n",
    "    actionType7 = validActions[np.where(actionTypes==7)[0]]\n",
    "    actionType8 = validActions[np.where(actionTypes==8)[0]]\n",
    "    actionType9 = validActions[np.where(actionTypes==9)[0]]\n",
    "    actionType10 = validActions[np.where(actionTypes==10)[0]]\n",
    "    actionType11 = validActions[np.where(actionTypes==11)[0]]\n",
    "    actionType12 = validActions[np.where(actionTypes==12)[0]]\n",
    "    actionType13 = validActions[np.where(actionTypes==13)[0]]\n",
    "    actionType14 = validActions[np.where(actionTypes==14)[0]]\n",
    "    actionType15 = validActions[np.where(actionTypes==15)[0]]\n",
    "\n",
    "    actionTypes = [\n",
    "        actionType1,\n",
    "        actionType2,\n",
    "        actionType3,\n",
    "        actionType4,\n",
    "        actionType5,\n",
    "        actionType6,\n",
    "        actionType7,\n",
    "        actionType8,\n",
    "        actionType9,\n",
    "        actionType10,\n",
    "        actionType11,\n",
    "        actionType12,\n",
    "        actionType13,\n",
    "        actionType14,\n",
    "        actionType15 \n",
    "    ]\n",
    "\n",
    "    if np.sum(state[119:113]) == 0:\n",
    "        if len(actionType3) > 1:\n",
    "            return actionType3[0], per\n",
    "\n",
    "    if np.min(state[107:110]) >= 9:\n",
    "        if 0 in validActions:\n",
    "            return 0, per\n",
    "\n",
    "    for i in (15, 14, 13, 12, 11, 10, 9, 8, 7, 6, 5, 4, 3, 2, 1):\n",
    "        if (len(actionTypes[i-1]) == 1) and (len(validActions)==1):\n",
    "            return actionTypes[i-1][0], per\n",
    "\n",
    "    for i in (13, 12, 11, 10,  9,  7,  6,  5,  8):\n",
    "        if len(actionTypes[i-1])>0:\n",
    "            return actionTypes[i-1][0], per\n",
    "        \n",
    "    for i in (3, 2, 1, 14, 15, 4):\n",
    "        if len(actionTypes[i-1])>0:\n",
    "            return actionTypes[i-1][0], per\n",
    "    \n",
    "    action = validActions[np.random.randint(len(validActions))]\n",
    "    return action, per"
   ]
  },
  {
   "cell_type": "code",
   "execution_count": 58,
   "metadata": {},
   "outputs": [
    {
     "data": {
      "text/plain": [
       "4693"
      ]
     },
     "execution_count": 58,
     "metadata": {},
     "output_type": "execute_result"
    }
   ],
   "source": [
    "win, per = numba_main_2(player, 10000, np.array([]), 1)\n",
    "win"
   ]
  }
 ],
 "metadata": {
  "kernelspec": {
   "display_name": "Python 3",
   "language": "python",
   "name": "python3"
  },
  "language_info": {
   "codemirror_mode": {
    "name": "ipython",
    "version": 3
   },
   "file_extension": ".py",
   "mimetype": "text/x-python",
   "name": "python",
   "nbconvert_exporter": "python",
   "pygments_lexer": "ipython3",
   "version": "3.9.13"
  },
  "orig_nbformat": 4
 },
 "nbformat": 4,
 "nbformat_minor": 2
}
