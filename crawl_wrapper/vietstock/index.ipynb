{
 "cells": [
  {
   "cell_type": "code",
   "execution_count": 1,
   "metadata": {},
   "outputs": [],
   "source": [
    "from selenium import webdriver\n",
    "from selenium.webdriver import edge\n",
    "from selenium.webdriver.common.by import By\n",
    "from selenium.webdriver.common.keys import Keys\n",
    "from selenium.webdriver.support.ui import WebDriverWait\n",
    "from selenium.webdriver.support import expected_conditions as EC\n",
    "from selenium.webdriver.support.ui import Select\n",
    "from time import sleep"
   ]
  },
  {
   "cell_type": "code",
   "execution_count": 2,
   "metadata": {},
   "outputs": [],
   "source": [
    "base_url = \"https://finance.vietstock.vn/san-pham/chinh-sach\"\n",
    "financial_url = \"https://finance.vietstock.vn/truy-xuat-du-lieu/bao-cao-tai-chinh.htm\"\n",
    "user_name = \"jgb48995@omeie.com\"\n",
    "password = \"V@ng2000\"\n",
    "click_checkboxes = [\"Quý 1\", \"Năm\"]"
   ]
  },
  {
   "cell_type": "code",
   "execution_count": 3,
   "metadata": {},
   "outputs": [],
   "source": [
    "options = edge.options.Options()\n",
    "# options.add_argument(\"--headless=new\")\n",
    "options.add_argument(\"--start-maximized\")\n",
    "driver = webdriver.Edge(options=options)\n",
    "driver.get(base_url)\n",
    "\n",
    "login_ele = driver.find_element(by=By.XPATH, value=\"/html/body/div[4]/div[6]/div[1]/div[1]/div/a[2]\")\n",
    "login_ele.click()\n",
    "\n",
    "user_name_input_ele = driver.find_element(by=By.XPATH, value=\"/html/body/div[4]/div[12]/div/div/div/form/div[1]/div[1]/div[1]/input\")\n",
    "user_name_input_ele.clear()\n",
    "user_name_input_ele.send_keys(user_name)\n",
    "\n",
    "password_input_ele = driver.find_element(by=By.XPATH, value=\"/html/body/div[4]/div[12]/div/div/div/form/div[1]/div[1]/div[3]/input\")\n",
    "password_input_ele.clear()\n",
    "password_input_ele.send_keys(password)\n",
    "\n",
    "password_input_ele.send_keys(Keys.ENTER)\n",
    "\n",
    "sleep(5)\n",
    "driver.get(financial_url)\n",
    "\n",
    "wait = WebDriverWait(driver, 10)\n",
    "close_btn_ele = wait.until(EC.element_to_be_clickable((By.XPATH, \"/html/body/div[1]/div[1]/div[9]/div[2]/div/div/div/div[1]/button\")))\n",
    "\n",
    "close_btn_ele.click()\n",
    "\n",
    "table_content_ele = driver.find_element(by=By.ID, value=\"group-option-multi\")\n",
    "from_year_ele = Select(table_content_ele.find_element(by=By.ID, value=\"txtFromYearPeriod\"))\n",
    "from_year_ele.select_by_value(\"2021\")\n",
    "to_year_ele = Select(table_content_ele.find_element(by=By.ID, value=\"txtToYearPeriod\"))\n",
    "to_year_ele.select_by_value(\"2022\")\n",
    "\n",
    "checkbox_eles = table_content_ele.find_elements(by=By.CSS_SELECTOR, value=\"input[type='checkbox']\")\n",
    "dict_checkbox = {}\n",
    "for checkbox in checkbox_eles:\n",
    "    parent_element = checkbox.find_element(By.XPATH, \"..\")\n",
    "    text = parent_element.text.strip()\n",
    "    dict_checkbox[text] = checkbox\n",
    "\n",
    "for k in dict_checkbox.keys():\n",
    "    if k in click_checkboxes:\n",
    "        if not dict_checkbox[k].is_selected():\n",
    "            dict_checkbox[k].click()\n",
    "    else:\n",
    "        if dict_checkbox[k].is_selected():\n",
    "            dict_checkbox[k].click()\n",
    "\n",
    "driver.close()"
   ]
  }
 ],
 "metadata": {
  "kernelspec": {
   "display_name": "Python 3",
   "language": "python",
   "name": "python3"
  },
  "language_info": {
   "codemirror_mode": {
    "name": "ipython",
    "version": 3
   },
   "file_extension": ".py",
   "mimetype": "text/x-python",
   "name": "python",
   "nbconvert_exporter": "python",
   "pygments_lexer": "ipython3",
   "version": "3.9.13"
  },
  "orig_nbformat": 4
 },
 "nbformat": 4,
 "nbformat_minor": 2
}
