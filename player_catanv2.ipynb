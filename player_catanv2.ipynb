{
 "cells": [
  {
   "cell_type": "code",
   "execution_count": 4,
   "metadata": {},
   "outputs": [],
   "source": [
    "import sys\n",
    "sys.path.insert(0, '/VIS_3TH/')\n",
    "\n",
    "import numpy as np\n",
    "from numba import njit\n",
    "\n",
    "from setup import SHORT_PATH\n",
    "import importlib.util\n",
    "game_name = 'Catan'\n",
    "\n",
    "def add_game_to_syspath(game_name):\n",
    "    if len(sys.argv) >= 2:\n",
    "        sys.argv = [sys.argv[0]]\n",
    "    sys.argv.append(game_name)\n",
    "\n",
    "def setup_game(game_name):\n",
    "    spec = importlib.util.spec_from_file_location('env', f\"{SHORT_PATH}Base/{game_name}/env.py\")\n",
    "    module = importlib.util.module_from_spec(spec)\n",
    "    sys.modules[spec.name] = module \n",
    "    spec.loader.exec_module(module)\n",
    "    return module\n",
    "\n",
    "add_game_to_syspath(game_name)\n",
    "env = setup_game(game_name)\n",
    "\n",
    "getActionSize = env.getActionSize\n",
    "getStateSize = env.getStateSize\n",
    "getAgentSize = env.getAgentSize\n",
    "\n",
    "getValidActions = env.getValidActions\n",
    "getReward = env.getReward\n",
    "numba_main_2 = env.numba_main_2"
   ]
  },
  {
   "cell_type": "code",
   "execution_count": 5,
   "metadata": {},
   "outputs": [],
   "source": [
    "from Base.Catan.env import POINT_TILE\n",
    "\n",
    "@njit()\n",
    "def valueOf(position, valueDiceInTile):\n",
    "    score = 0\n",
    "    #[2, 3, 4, 5, 6, 8, 9, 10, 11, 12]\n",
    "    proba = [1, 2, 3, 4, 5, 5, 4, 3, 2, 1]\n",
    "    adjTilesOfPoss = POINT_TILE[position]\n",
    "    for pos in adjTilesOfPoss:\n",
    "        if pos != -1:\n",
    "            val = valueDiceInTile[:, pos]\n",
    "            val = np.where(val == 1)[0]\n",
    "            if len(val)>0:\n",
    "                idxVal = val[0]\n",
    "                score += proba[idxVal]\n",
    "    return score\n",
    "\n",
    "@njit()\n",
    "def player(state, per):\n",
    "    validActions = getValidActions(state)\n",
    "    validActions = np.where(validActions==1)[0]\n",
    "\n",
    "    selectPositionActions = validActions[(validActions>=0) & (validActions<54)]\n",
    "    if len(selectPositionActions) > 0:\n",
    "        valueDiceInTile = np.append(state[114:133], state[1048:1219])\n",
    "        valueDiceInTile = valueDiceInTile.reshape(10,-1)\n",
    "        valueOfActions = np.zeros_like(selectPositionActions)\n",
    "        for i in range(len(selectPositionActions)):\n",
    "            valueOfActions[i] = valueOf(selectPositionActions[i], valueDiceInTile)\n",
    "        action = selectPositionActions[np.argmax(valueOfActions)]\n",
    "        return action, per\n",
    "\n",
    "    for i in (87, 86, 88, 89, 90, 91, 93, 103, 104):\n",
    "        if i in validActions:\n",
    "            return i, per\n",
    "        \n",
    "    returnResources = validActions[(validActions>=95) & (validActions<100)]\n",
    "    if len(returnResources)>0:\n",
    "        valueOfActions = np.zeros_like(returnResources)\n",
    "        for i in range(len(returnResources)):\n",
    "            valueOfActions[i] = state[returnResources[i]-95+193]\n",
    "        action = returnResources[np.argmax(valueOfActions)]\n",
    "        return action, per       \n",
    "        \n",
    "    action = validActions[np.random.randint(len(validActions))]\n",
    "    return action, per"
   ]
  },
  {
   "cell_type": "code",
   "execution_count": 6,
   "metadata": {},
   "outputs": [
    {
     "name": "stdout",
     "output_type": "stream",
     "text": [
      "772\n",
      "730\n",
      "747\n",
      "781\n",
      "757\n",
      "718\n",
      "752\n",
      "750\n",
      "752\n",
      "759\n"
     ]
    }
   ],
   "source": [
    "for i in range(10):\n",
    "    win, per = numba_main_2(player, 1000, np.array([0,]), 1)\n",
    "    print(win)"
   ]
  }
 ],
 "metadata": {
  "kernelspec": {
   "display_name": "Python 3",
   "language": "python",
   "name": "python3"
  },
  "language_info": {
   "codemirror_mode": {
    "name": "ipython",
    "version": 3
   },
   "file_extension": ".py",
   "mimetype": "text/x-python",
   "name": "python",
   "nbconvert_exporter": "python",
   "pygments_lexer": "ipython3",
   "version": "3.9.13"
  },
  "orig_nbformat": 4
 },
 "nbformat": 4,
 "nbformat_minor": 2
}
