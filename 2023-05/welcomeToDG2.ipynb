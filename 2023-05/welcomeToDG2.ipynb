{
 "cells": [
  {
   "cell_type": "code",
   "execution_count": 1,
   "metadata": {},
   "outputs": [],
   "source": [
    "from setup import make\n",
    "import numpy as np\n",
    "from Base.WelcomeToTheDungeon_v2_draft._env import *\n",
    "env = make(\"WelcomeToTheDungeon_v2_draft\")\n"
   ]
  },
  {
   "cell_type": "code",
   "execution_count": 2,
   "metadata": {},
   "outputs": [],
   "source": [
    "@njit()\n",
    "def Test(state, per):\n",
    "    validActions = getValidActions(state)\n",
    "    validActions = np.where(validActions == 1)[0]\n",
    "\n",
    "    # if state[12]<5:\n",
    "    #     if 0 in validActions:\n",
    "    #         return 0, per\n",
    "    # if 11 in validActions:\n",
    "    #     return 11, per\n",
    "    # if state[61] == 1:# Mage is choosen\n",
    "    #     for i in (2, 3, 4, 5, 6, 7):\n",
    "    #         if i in validActions:\n",
    "    #             return i, per\n",
    "    #     if np.sum(state[63:69]) == 0:\n",
    "    #         if 0 in validActions:\n",
    "    #             return 0, per\n",
    "    # if state[53] == 1: #Barbarian is choosen\n",
    "    #     for i in (3, 4, 5, 6, 7, 2):\n",
    "    #         if i in validActions:\n",
    "    #             return i, per\n",
    "    #     if np.sum(state[55:61]) == 0:\n",
    "    #         if 0 in validActions:\n",
    "    #             return 0, per\n",
    "    action = np.random.choice(validActions)\n",
    "    return action, per"
   ]
  },
  {
   "cell_type": "code",
   "execution_count": 5,
   "metadata": {},
   "outputs": [
    {
     "name": "stdout",
     "output_type": "stream",
     "text": [
      "[ 1  3  2 -1]\n",
      "[[2 0]\n",
      " [1 0]\n",
      " [1 0]\n",
      " [1 1]]\n"
     ]
    },
    {
     "data": {
      "application/vnd.jupyter.widget-view+json": {
       "model_id": "0f5b5de64bc14b0ab6c330227f1f60de",
       "version_major": 2,
       "version_minor": 0
      },
      "text/plain": [
       "VBox(children=(Output(), HBox(children=(Dropdown(disabled=True, layout=Layout(width='20%'), options=('Take an …"
      ]
     },
     "metadata": {},
     "output_type": "display_data"
    }
   ],
   "source": [
    "env.render(Agent=Test, per_data=np.array([0]), level=0, max_temp_frame=1000)"
   ]
  },
  {
   "cell_type": "code",
   "execution_count": 4,
   "metadata": {},
   "outputs": [
    {
     "data": {
      "text/plain": [
       "dict_keys(['history_state', 'history_action'])"
      ]
     },
     "execution_count": 4,
     "metadata": {},
     "output_type": "execute_result"
    }
   ],
   "source": [
    "data = env.get_data_from_visualized_match()\n",
    "data.keys()"
   ]
  }
 ],
 "metadata": {
  "kernelspec": {
   "display_name": "Python 3",
   "language": "python",
   "name": "python3"
  },
  "language_info": {
   "codemirror_mode": {
    "name": "ipython",
    "version": 3
   },
   "file_extension": ".py",
   "mimetype": "text/x-python",
   "name": "python",
   "nbconvert_exporter": "python",
   "pygments_lexer": "ipython3",
   "version": "3.9.13"
  },
  "orig_nbformat": 4
 },
 "nbformat": 4,
 "nbformat_minor": 2
}
