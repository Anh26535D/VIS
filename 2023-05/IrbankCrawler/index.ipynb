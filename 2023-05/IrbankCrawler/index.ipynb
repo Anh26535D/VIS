{
 "cells": [
  {
   "cell_type": "code",
   "execution_count": 9,
   "metadata": {},
   "outputs": [],
   "source": [
    "import os\n",
    "import pandas as pd\n",
    "\n",
    "PATH = \"G:/.shortcut-targets-by-id/15-cUFhSiV6ag8MQktsfieL9O58MEh4eO/Financial\"\n",
    "\n",
    "delist_after_ccode = pd.read_csv(\"G:/My Drive/IrbankCrawler/delist_after_ccode.csv\")\n",
    "delist_before_ccode = pd.read_csv(\"G:/My Drive/IrbankCrawler/delist_before_ccode.csv\")\n",
    "\n",
    "full_ccode = pd.concat([delist_before_ccode, delist_after_ccode])"
   ]
  },
  {
   "cell_type": "code",
   "execution_count": 10,
   "metadata": {},
   "outputs": [],
   "source": [
    "full_ccode = full_ccode.sort_values(\"fcode\")"
   ]
  },
  {
   "cell_type": "code",
   "execution_count": 11,
   "metadata": {},
   "outputs": [],
   "source": [
    "full_ccode.to_csv(\"delist_ccode.csv\", index=False)"
   ]
  }
 ],
 "metadata": {
  "kernelspec": {
   "display_name": "Python 3",
   "language": "python",
   "name": "python3"
  },
  "language_info": {
   "codemirror_mode": {
    "name": "ipython",
    "version": 3
   },
   "file_extension": ".py",
   "mimetype": "text/x-python",
   "name": "python",
   "nbconvert_exporter": "python",
   "pygments_lexer": "ipython3",
   "version": "3.9.13"
  },
  "orig_nbformat": 4
 },
 "nbformat": 4,
 "nbformat_minor": 2
}
