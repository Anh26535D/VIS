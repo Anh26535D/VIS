{
 "cells": [
  {
   "cell_type": "code",
   "execution_count": 1,
   "metadata": {},
   "outputs": [],
   "source": [
    "# import os\n",
    "# import pandas as pd\n",
    "\n",
    "# PATH = \"G:/.shortcut-targets-by-id/15-cUFhSiV6ag8MQktsfieL9O58MEh4eO/Financial\"\n",
    "\n",
    "# delist_after_ccode = pd.read_csv(\"G:/My Drive/IrbankCrawler/delist_after_ccode.csv\")\n",
    "# delist_before_ccode = pd.read_csv(\"G:/My Drive/IrbankCrawler/delist_before_ccode.csv\")\n",
    "# ccode = pd.read_csv(\"G:/My Drive/IrbankCrawler/ccode.csv\")\n",
    "\n",
    "# full_ccode = pd.concat([delist_before_ccode, delist_after_ccode, ccode])"
   ]
  },
  {
   "cell_type": "code",
   "execution_count": 2,
   "metadata": {},
   "outputs": [],
   "source": [
    "# full_ccode = full_ccode.sort_values(\"fcode\").drop_duplicates()"
   ]
  },
  {
   "cell_type": "code",
   "execution_count": 3,
   "metadata": {},
   "outputs": [],
   "source": [
    "# full_ccode.to_csv(\"full_ccode.csv\", index=False)"
   ]
  },
  {
   "cell_type": "code",
   "execution_count": 4,
   "metadata": {},
   "outputs": [],
   "source": [
    "import pandas as pd"
   ]
  },
  {
   "cell_type": "code",
   "execution_count": 6,
   "metadata": {},
   "outputs": [
    {
     "data": {
      "text/html": [
       "<div>\n",
       "<style scoped>\n",
       "    .dataframe tbody tr th:only-of-type {\n",
       "        vertical-align: middle;\n",
       "    }\n",
       "\n",
       "    .dataframe tbody tr th {\n",
       "        vertical-align: top;\n",
       "    }\n",
       "\n",
       "    .dataframe thead th {\n",
       "        text-align: right;\n",
       "    }\n",
       "</style>\n",
       "<table border=\"1\" class=\"dataframe\">\n",
       "  <thead>\n",
       "    <tr style=\"text-align: right;\">\n",
       "      <th></th>\n",
       "      <th>Note</th>\n",
       "      <th>Name</th>\n",
       "      <th>Content</th>\n",
       "    </tr>\n",
       "  </thead>\n",
       "  <tbody>\n",
       "    <tr>\n",
       "      <th>0</th>\n",
       "      <td>#1</td>\n",
       "      <td>株式分割・併合等</td>\n",
       "      <td>1：0.1 2016年10月1日</td>\n",
       "    </tr>\n",
       "    <tr>\n",
       "      <th>1</th>\n",
       "      <td>#2</td>\n",
       "      <td>配当の状況に関する注記</td>\n",
       "      <td>(注)当社は、平成28年10月1日を効力発生日として普通株式10株につき1株の割合で株式併合...</td>\n",
       "    </tr>\n",
       "    <tr>\n",
       "      <th>2</th>\n",
       "      <td>#3</td>\n",
       "      <td>配当予想修正の理由</td>\n",
       "      <td>当社は、平成29年9月に創立80周年を迎えます。これもひとえに株主の皆様をはじめ、関係各位の...</td>\n",
       "    </tr>\n",
       "    <tr>\n",
       "      <th>3</th>\n",
       "      <td>#4</td>\n",
       "      <td>配当の状況に関する注記</td>\n",
       "      <td>(注)1.平成28年10月1日を効力発生日として普通株式10株につき1株の割合で株式併合を実...</td>\n",
       "    </tr>\n",
       "    <tr>\n",
       "      <th>4</th>\n",
       "      <td>#5</td>\n",
       "      <td>配当予想修正の理由</td>\n",
       "      <td>当社は、株主に対する適切な利益還元を経営の重要な課題のひとつと位置付けており、企業体質の強化...</td>\n",
       "    </tr>\n",
       "    <tr>\n",
       "      <th>5</th>\n",
       "      <td>#6</td>\n",
       "      <td>配当の状況に関する注記</td>\n",
       "      <td>(注)平成29年3月期期末配当金の内訳普通配当50円00銭記念配当10円00銭(創立80周年...</td>\n",
       "    </tr>\n",
       "    <tr>\n",
       "      <th>6</th>\n",
       "      <td>#7</td>\n",
       "      <td>配当予想修正の理由</td>\n",
       "      <td>当社は、株主に対する適切な利益還元を経営の重要な課題のひとつと位置づけております。2022年...</td>\n",
       "    </tr>\n",
       "    <tr>\n",
       "      <th>7</th>\n",
       "      <td>#8</td>\n",
       "      <td>配当予想修正の理由</td>\n",
       "      <td>当社は、2022年9月に創立85周年を迎えることができました。これもひとえに、株主の皆様をは...</td>\n",
       "    </tr>\n",
       "    <tr>\n",
       "      <th>8</th>\n",
       "      <td>#9</td>\n",
       "      <td>配当の状況に関する注記</td>\n",
       "      <td>（注）2023年3月期期末配当金の内訳普通配当90円00銭記念配当10円00銭（創立85周年...</td>\n",
       "    </tr>\n",
       "  </tbody>\n",
       "</table>\n",
       "</div>"
      ],
      "text/plain": [
       "  Note         Name                                            Content\n",
       "0   #1     株式分割・併合等                                   1：0.1 2016年10月1日\n",
       "1   #2  配当の状況に関する注記  (注)当社は、平成28年10月1日を効力発生日として普通株式10株につき1株の割合で株式併合...\n",
       "2   #3    配当予想修正の理由  当社は、平成29年9月に創立80周年を迎えます。これもひとえに株主の皆様をはじめ、関係各位の...\n",
       "3   #4  配当の状況に関する注記  (注)1.平成28年10月1日を効力発生日として普通株式10株につき1株の割合で株式併合を実...\n",
       "4   #5    配当予想修正の理由  当社は、株主に対する適切な利益還元を経営の重要な課題のひとつと位置付けており、企業体質の強化...\n",
       "5   #6  配当の状況に関する注記  (注)平成29年3月期期末配当金の内訳普通配当50円00銭記念配当10円00銭(創立80周年...\n",
       "6   #7    配当予想修正の理由  当社は、株主に対する適切な利益還元を経営の重要な課題のひとつと位置づけております。2022年...\n",
       "7   #8    配当予想修正の理由  当社は、2022年9月に創立85周年を迎えることができました。これもひとえに、株主の皆様をは...\n",
       "8   #9  配当の状況に関する注記  （注）2023年3月期期末配当金の内訳普通配当90円00銭記念配当10円00銭（創立85周年..."
      ]
     },
     "execution_count": 6,
     "metadata": {},
     "output_type": "execute_result"
    }
   ],
   "source": [
    "df = pd.read_csv(\"G:/My Drive/IrbankCrawler/Note/1301.csv\")\n",
    "df"
   ]
  }
 ],
 "metadata": {
  "kernelspec": {
   "display_name": "Python 3",
   "language": "python",
   "name": "python3"
  },
  "language_info": {
   "codemirror_mode": {
    "name": "ipython",
    "version": 3
   },
   "file_extension": ".py",
   "mimetype": "text/x-python",
   "name": "python",
   "nbconvert_exporter": "python",
   "pygments_lexer": "ipython3",
   "version": "3.9.13"
  },
  "orig_nbformat": 4
 },
 "nbformat": 4,
 "nbformat_minor": 2
}
