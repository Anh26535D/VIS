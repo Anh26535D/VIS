{
 "cells": [
  {
   "cell_type": "code",
   "execution_count": 1,
   "metadata": {},
   "outputs": [],
   "source": [
    "import sys\n",
    "sys.path.insert(0, '/VIS_3TH/')\n",
    "\n",
    "import numpy as np\n",
    "from numba import njit\n",
    "\n",
    "from setup import SHORT_PATH\n",
    "import importlib.util\n",
    "game_name = 'MachiKoro'\n",
    "\n",
    "def add_game_to_syspath(game_name):\n",
    "    if len(sys.argv) >= 2:\n",
    "        sys.argv = [sys.argv[0]]\n",
    "    sys.argv.append(game_name)\n",
    "\n",
    "def setup_game(game_name):\n",
    "    spec = importlib.util.spec_from_file_location('env', f\"{SHORT_PATH}Base/{game_name}/env.py\")\n",
    "    module = importlib.util.module_from_spec(spec)\n",
    "    sys.modules[spec.name] = module \n",
    "    spec.loader.exec_module(module)\n",
    "    return module\n",
    "\n",
    "add_game_to_syspath(game_name)\n",
    "env = setup_game(game_name)\n",
    "\n",
    "getActionSize = env.getActionSize\n",
    "getStateSize = env.getStateSize\n",
    "getAgentSize = env.getAgentSize\n",
    "\n",
    "getValidActions = env.getValidActions\n",
    "getReward = env.getReward\n",
    "numba_main_2 = env.numba_main_2"
   ]
  },
  {
   "cell_type": "code",
   "execution_count": 2,
   "metadata": {},
   "outputs": [],
   "source": [
    "policy = np.array([\n",
    "    19, 10, 32, 26, 35, 44, 14, \n",
    "    4, 36, 29, 43, 25, 16, 28, \n",
    "    2, 37, 33, 41, 9, 21, 11, \n",
    "    38, 34, 7, 31, 6, 47, 46, \n",
    "    17, 18, 22, 42, 8, 27, 49, \n",
    "    54, 45, 24, 39, 50, 3, 5, \n",
    "    23, 13, 30, 15, 40, 20, \n",
    "    12, 51, 52, 53, 48, 1\n",
    "])\n"
   ]
  },
  {
   "cell_type": "code",
   "execution_count": 3,
   "metadata": {},
   "outputs": [],
   "source": [
    "@njit()\n",
    "def player(state, per):\n",
    "    validActions = getValidActions(state)\n",
    "    validActions[48] = 0\n",
    "    validActions[52] = state[18]*validActions[52]\n",
    "    for i in (45, 44, 43, 41, 40, 42, 46, 47):\n",
    "        if (state[i-33] >= 2):\n",
    "            validActions[i] = 0\n",
    "    validActions = np.where(validActions == 1)[0]\n",
    "\n",
    "    if (0 in validActions) and (np.sum(state[1:16]) <= 10): # Đổ xúc xắc\n",
    "        return 0, per\n",
    "    elif (1 in validActions):\n",
    "        return 1, per\n",
    "    \n",
    "    for i in (35, 34, 37, 36, 38, 39):\n",
    "        if i in validActions:\n",
    "            return i, per \n",
    "\n",
    "    for i in (51, 52, 50, 49, 53):\n",
    "        if i in validActions:\n",
    "            return i, per\n",
    "             \n",
    "    action = validActions[np.random.randint(len(validActions))]\n",
    "    return action, per"
   ]
  },
  {
   "cell_type": "code",
   "execution_count": 5,
   "metadata": {},
   "outputs": [
    {
     "data": {
      "text/plain": [
       "2810"
      ]
     },
     "execution_count": 5,
     "metadata": {},
     "output_type": "execute_result"
    }
   ],
   "source": [
    "win, per = numba_main_2(player, 10000, policy, 1)\n",
    "win"
   ]
  }
 ],
 "metadata": {
  "kernelspec": {
   "display_name": "Python 3",
   "language": "python",
   "name": "python3"
  },
  "language_info": {
   "codemirror_mode": {
    "name": "ipython",
    "version": 3
   },
   "file_extension": ".py",
   "mimetype": "text/x-python",
   "name": "python",
   "nbconvert_exporter": "python",
   "pygments_lexer": "ipython3",
   "version": "3.9.13"
  },
  "orig_nbformat": 4
 },
 "nbformat": 4,
 "nbformat_minor": 2
}
